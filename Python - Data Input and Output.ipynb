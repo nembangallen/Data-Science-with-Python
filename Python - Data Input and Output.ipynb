{
 "cells": [
  {
   "cell_type": "markdown",
   "metadata": {},
   "source": [
    "## Python - Data I/O\n",
    "<ul>\n",
    "    <li>CSV</li>\n",
    "    <li>Excel</li>\n",
    "    <li>HTML</li>\n",
    "    <li>SQL</li>\n",
    "</ul>"
   ]
  },
  {
   "cell_type": "code",
   "execution_count": 2,
   "metadata": {},
   "outputs": [],
   "source": [
    "import pandas as pd"
   ]
  },
  {
   "cell_type": "code",
   "execution_count": 3,
   "metadata": {},
   "outputs": [],
   "source": [
    "data = pd.DataFrame({'a':[0,4,8,12],\n",
    "                    'b':[1,5,9,13],\n",
    "                    'c':[2,6,10,14],\n",
    "                    'd':[3,7,11,15]})"
   ]
  },
  {
   "cell_type": "code",
   "execution_count": 4,
   "metadata": {},
   "outputs": [
    {
     "data": {
      "text/html": [
       "<div>\n",
       "<style scoped>\n",
       "    .dataframe tbody tr th:only-of-type {\n",
       "        vertical-align: middle;\n",
       "    }\n",
       "\n",
       "    .dataframe tbody tr th {\n",
       "        vertical-align: top;\n",
       "    }\n",
       "\n",
       "    .dataframe thead th {\n",
       "        text-align: right;\n",
       "    }\n",
       "</style>\n",
       "<table border=\"1\" class=\"dataframe\">\n",
       "  <thead>\n",
       "    <tr style=\"text-align: right;\">\n",
       "      <th></th>\n",
       "      <th>a</th>\n",
       "      <th>b</th>\n",
       "      <th>c</th>\n",
       "      <th>d</th>\n",
       "    </tr>\n",
       "  </thead>\n",
       "  <tbody>\n",
       "    <tr>\n",
       "      <th>0</th>\n",
       "      <td>0</td>\n",
       "      <td>1</td>\n",
       "      <td>2</td>\n",
       "      <td>3</td>\n",
       "    </tr>\n",
       "    <tr>\n",
       "      <th>1</th>\n",
       "      <td>4</td>\n",
       "      <td>5</td>\n",
       "      <td>6</td>\n",
       "      <td>7</td>\n",
       "    </tr>\n",
       "    <tr>\n",
       "      <th>2</th>\n",
       "      <td>8</td>\n",
       "      <td>9</td>\n",
       "      <td>10</td>\n",
       "      <td>11</td>\n",
       "    </tr>\n",
       "    <tr>\n",
       "      <th>3</th>\n",
       "      <td>12</td>\n",
       "      <td>13</td>\n",
       "      <td>14</td>\n",
       "      <td>15</td>\n",
       "    </tr>\n",
       "  </tbody>\n",
       "</table>\n",
       "</div>"
      ],
      "text/plain": [
       "    a   b   c   d\n",
       "0   0   1   2   3\n",
       "1   4   5   6   7\n",
       "2   8   9  10  11\n",
       "3  12  13  14  15"
      ]
     },
     "execution_count": 4,
     "metadata": {},
     "output_type": "execute_result"
    }
   ],
   "source": [
    "data"
   ]
  },
  {
   "cell_type": "code",
   "execution_count": 6,
   "metadata": {},
   "outputs": [],
   "source": [
    "data.to_csv('new',index=False)"
   ]
  },
  {
   "cell_type": "code",
   "execution_count": 14,
   "metadata": {},
   "outputs": [],
   "source": [
    "df = pd.read_csv('new')"
   ]
  },
  {
   "cell_type": "code",
   "execution_count": 15,
   "metadata": {},
   "outputs": [
    {
     "data": {
      "text/html": [
       "<div>\n",
       "<style scoped>\n",
       "    .dataframe tbody tr th:only-of-type {\n",
       "        vertical-align: middle;\n",
       "    }\n",
       "\n",
       "    .dataframe tbody tr th {\n",
       "        vertical-align: top;\n",
       "    }\n",
       "\n",
       "    .dataframe thead th {\n",
       "        text-align: right;\n",
       "    }\n",
       "</style>\n",
       "<table border=\"1\" class=\"dataframe\">\n",
       "  <thead>\n",
       "    <tr style=\"text-align: right;\">\n",
       "      <th></th>\n",
       "      <th>a</th>\n",
       "      <th>b</th>\n",
       "      <th>c</th>\n",
       "      <th>d</th>\n",
       "    </tr>\n",
       "  </thead>\n",
       "  <tbody>\n",
       "    <tr>\n",
       "      <th>0</th>\n",
       "      <td>0</td>\n",
       "      <td>1</td>\n",
       "      <td>2</td>\n",
       "      <td>3</td>\n",
       "    </tr>\n",
       "    <tr>\n",
       "      <th>1</th>\n",
       "      <td>4</td>\n",
       "      <td>5</td>\n",
       "      <td>6</td>\n",
       "      <td>7</td>\n",
       "    </tr>\n",
       "    <tr>\n",
       "      <th>2</th>\n",
       "      <td>8</td>\n",
       "      <td>9</td>\n",
       "      <td>10</td>\n",
       "      <td>11</td>\n",
       "    </tr>\n",
       "    <tr>\n",
       "      <th>3</th>\n",
       "      <td>12</td>\n",
       "      <td>13</td>\n",
       "      <td>14</td>\n",
       "      <td>15</td>\n",
       "    </tr>\n",
       "  </tbody>\n",
       "</table>\n",
       "</div>"
      ],
      "text/plain": [
       "    a   b   c   d\n",
       "0   0   1   2   3\n",
       "1   4   5   6   7\n",
       "2   8   9  10  11\n",
       "3  12  13  14  15"
      ]
     },
     "execution_count": 15,
     "metadata": {},
     "output_type": "execute_result"
    }
   ],
   "source": [
    "df"
   ]
  },
  {
   "cell_type": "code",
   "execution_count": 8,
   "metadata": {},
   "outputs": [],
   "source": [
    "dt = pd.read_html('http://www.nepalstock.com/todaysprice')"
   ]
  },
  {
   "cell_type": "code",
   "execution_count": 9,
   "metadata": {},
   "outputs": [
    {
     "data": {
      "text/plain": [
       "list"
      ]
     },
     "execution_count": 9,
     "metadata": {},
     "output_type": "execute_result"
    }
   ],
   "source": [
    "type(dt)"
   ]
  },
  {
   "cell_type": "code",
   "execution_count": 11,
   "metadata": {},
   "outputs": [
    {
     "data": {
      "text/html": [
       "<div>\n",
       "<style scoped>\n",
       "    .dataframe tbody tr th:only-of-type {\n",
       "        vertical-align: middle;\n",
       "    }\n",
       "\n",
       "    .dataframe tbody tr th {\n",
       "        vertical-align: top;\n",
       "    }\n",
       "\n",
       "    .dataframe thead th {\n",
       "        text-align: right;\n",
       "    }\n",
       "</style>\n",
       "<table border=\"1\" class=\"dataframe\">\n",
       "  <thead>\n",
       "    <tr style=\"text-align: right;\">\n",
       "      <th></th>\n",
       "      <th>0</th>\n",
       "      <th>1</th>\n",
       "      <th>2</th>\n",
       "      <th>3</th>\n",
       "      <th>4</th>\n",
       "      <th>5</th>\n",
       "      <th>6</th>\n",
       "      <th>7</th>\n",
       "      <th>8</th>\n",
       "      <th>9</th>\n",
       "    </tr>\n",
       "  </thead>\n",
       "  <tbody>\n",
       "    <tr>\n",
       "      <th>0</th>\n",
       "      <td>As of 2020-03-22 16:00:00  Select Date  Stock ...</td>\n",
       "      <td>As of 2020-03-22 16:00:00  Select Date  Stock ...</td>\n",
       "      <td>As of 2020-03-22 16:00:00  Select Date  Stock ...</td>\n",
       "      <td>As of 2020-03-22 16:00:00  Select Date  Stock ...</td>\n",
       "      <td>As of 2020-03-22 16:00:00  Select Date  Stock ...</td>\n",
       "      <td>As of 2020-03-22 16:00:00  Select Date  Stock ...</td>\n",
       "      <td>As of 2020-03-22 16:00:00  Select Date  Stock ...</td>\n",
       "      <td>As of 2020-03-22 16:00:00  Select Date  Stock ...</td>\n",
       "      <td>As of 2020-03-22 16:00:00  Select Date  Stock ...</td>\n",
       "      <td>As of 2020-03-22 16:00:00  Select Date  Stock ...</td>\n",
       "    </tr>\n",
       "    <tr>\n",
       "      <th>1</th>\n",
       "      <td>S.N.</td>\n",
       "      <td>Traded Companies</td>\n",
       "      <td>No. Of Transaction</td>\n",
       "      <td>Max Price</td>\n",
       "      <td>Min Price</td>\n",
       "      <td>Closing Price</td>\n",
       "      <td>Traded Shares</td>\n",
       "      <td>Amount</td>\n",
       "      <td>Previous Closing</td>\n",
       "      <td>Difference Rs.</td>\n",
       "    </tr>\n",
       "    <tr>\n",
       "      <th>2</th>\n",
       "      <td>1</td>\n",
       "      <td>Agriculture Development Bank Limited</td>\n",
       "      <td>35</td>\n",
       "      <td>376.00</td>\n",
       "      <td>362.00</td>\n",
       "      <td>368.00</td>\n",
       "      <td>5639.00</td>\n",
       "      <td>2049363.00</td>\n",
       "      <td>376.00</td>\n",
       "      <td>-8.00</td>\n",
       "    </tr>\n",
       "    <tr>\n",
       "      <th>3</th>\n",
       "      <td>2</td>\n",
       "      <td>Api Power Company Ltd.</td>\n",
       "      <td>13</td>\n",
       "      <td>116.00</td>\n",
       "      <td>104.00</td>\n",
       "      <td>116.00</td>\n",
       "      <td>2980.00</td>\n",
       "      <td>319130.00</td>\n",
       "      <td>108.00</td>\n",
       "      <td>8.00</td>\n",
       "    </tr>\n",
       "    <tr>\n",
       "      <th>4</th>\n",
       "      <td>3</td>\n",
       "      <td>Arun Kabeli Power Ltd.</td>\n",
       "      <td>2</td>\n",
       "      <td>112.00</td>\n",
       "      <td>111.00</td>\n",
       "      <td>112.00</td>\n",
       "      <td>110.00</td>\n",
       "      <td>12309.00</td>\n",
       "      <td>113.00</td>\n",
       "      <td>-1.00</td>\n",
       "    </tr>\n",
       "  </tbody>\n",
       "</table>\n",
       "</div>"
      ],
      "text/plain": [
       "                                                   0  \\\n",
       "0  As of 2020-03-22 16:00:00  Select Date  Stock ...   \n",
       "1                                               S.N.   \n",
       "2                                                  1   \n",
       "3                                                  2   \n",
       "4                                                  3   \n",
       "\n",
       "                                                   1  \\\n",
       "0  As of 2020-03-22 16:00:00  Select Date  Stock ...   \n",
       "1                                   Traded Companies   \n",
       "2               Agriculture Development Bank Limited   \n",
       "3                             Api Power Company Ltd.   \n",
       "4                             Arun Kabeli Power Ltd.   \n",
       "\n",
       "                                                   2  \\\n",
       "0  As of 2020-03-22 16:00:00  Select Date  Stock ...   \n",
       "1                                 No. Of Transaction   \n",
       "2                                                 35   \n",
       "3                                                 13   \n",
       "4                                                  2   \n",
       "\n",
       "                                                   3  \\\n",
       "0  As of 2020-03-22 16:00:00  Select Date  Stock ...   \n",
       "1                                          Max Price   \n",
       "2                                             376.00   \n",
       "3                                             116.00   \n",
       "4                                             112.00   \n",
       "\n",
       "                                                   4  \\\n",
       "0  As of 2020-03-22 16:00:00  Select Date  Stock ...   \n",
       "1                                          Min Price   \n",
       "2                                             362.00   \n",
       "3                                             104.00   \n",
       "4                                             111.00   \n",
       "\n",
       "                                                   5  \\\n",
       "0  As of 2020-03-22 16:00:00  Select Date  Stock ...   \n",
       "1                                      Closing Price   \n",
       "2                                             368.00   \n",
       "3                                             116.00   \n",
       "4                                             112.00   \n",
       "\n",
       "                                                   6  \\\n",
       "0  As of 2020-03-22 16:00:00  Select Date  Stock ...   \n",
       "1                                      Traded Shares   \n",
       "2                                            5639.00   \n",
       "3                                            2980.00   \n",
       "4                                             110.00   \n",
       "\n",
       "                                                   7  \\\n",
       "0  As of 2020-03-22 16:00:00  Select Date  Stock ...   \n",
       "1                                             Amount   \n",
       "2                                         2049363.00   \n",
       "3                                          319130.00   \n",
       "4                                           12309.00   \n",
       "\n",
       "                                                   8  \\\n",
       "0  As of 2020-03-22 16:00:00  Select Date  Stock ...   \n",
       "1                                   Previous Closing   \n",
       "2                                             376.00   \n",
       "3                                             108.00   \n",
       "4                                             113.00   \n",
       "\n",
       "                                                   9  \n",
       "0  As of 2020-03-22 16:00:00  Select Date  Stock ...  \n",
       "1                                     Difference Rs.  \n",
       "2                                              -8.00  \n",
       "3                                               8.00  \n",
       "4                                              -1.00  "
      ]
     },
     "execution_count": 11,
     "metadata": {},
     "output_type": "execute_result"
    }
   ],
   "source": [
    "dt[0].head()"
   ]
  },
  {
   "cell_type": "code",
   "execution_count": 12,
   "metadata": {},
   "outputs": [],
   "source": [
    "from sqlalchemy import create_engine"
   ]
  },
  {
   "cell_type": "code",
   "execution_count": 13,
   "metadata": {},
   "outputs": [],
   "source": [
    "engine = create_engine('sqlite:///:memory:')"
   ]
  },
  {
   "cell_type": "code",
   "execution_count": 16,
   "metadata": {},
   "outputs": [],
   "source": [
    "df.to_sql('tbl_new',engine)"
   ]
  },
  {
   "cell_type": "code",
   "execution_count": 17,
   "metadata": {},
   "outputs": [],
   "source": [
    "sqldf = pd.read_sql('tbl_new',con=engine)"
   ]
  },
  {
   "cell_type": "code",
   "execution_count": 18,
   "metadata": {},
   "outputs": [
    {
     "data": {
      "text/html": [
       "<div>\n",
       "<style scoped>\n",
       "    .dataframe tbody tr th:only-of-type {\n",
       "        vertical-align: middle;\n",
       "    }\n",
       "\n",
       "    .dataframe tbody tr th {\n",
       "        vertical-align: top;\n",
       "    }\n",
       "\n",
       "    .dataframe thead th {\n",
       "        text-align: right;\n",
       "    }\n",
       "</style>\n",
       "<table border=\"1\" class=\"dataframe\">\n",
       "  <thead>\n",
       "    <tr style=\"text-align: right;\">\n",
       "      <th></th>\n",
       "      <th>index</th>\n",
       "      <th>a</th>\n",
       "      <th>b</th>\n",
       "      <th>c</th>\n",
       "      <th>d</th>\n",
       "    </tr>\n",
       "  </thead>\n",
       "  <tbody>\n",
       "    <tr>\n",
       "      <th>0</th>\n",
       "      <td>0</td>\n",
       "      <td>0</td>\n",
       "      <td>1</td>\n",
       "      <td>2</td>\n",
       "      <td>3</td>\n",
       "    </tr>\n",
       "    <tr>\n",
       "      <th>1</th>\n",
       "      <td>1</td>\n",
       "      <td>4</td>\n",
       "      <td>5</td>\n",
       "      <td>6</td>\n",
       "      <td>7</td>\n",
       "    </tr>\n",
       "    <tr>\n",
       "      <th>2</th>\n",
       "      <td>2</td>\n",
       "      <td>8</td>\n",
       "      <td>9</td>\n",
       "      <td>10</td>\n",
       "      <td>11</td>\n",
       "    </tr>\n",
       "    <tr>\n",
       "      <th>3</th>\n",
       "      <td>3</td>\n",
       "      <td>12</td>\n",
       "      <td>13</td>\n",
       "      <td>14</td>\n",
       "      <td>15</td>\n",
       "    </tr>\n",
       "  </tbody>\n",
       "</table>\n",
       "</div>"
      ],
      "text/plain": [
       "   index   a   b   c   d\n",
       "0      0   0   1   2   3\n",
       "1      1   4   5   6   7\n",
       "2      2   8   9  10  11\n",
       "3      3  12  13  14  15"
      ]
     },
     "execution_count": 18,
     "metadata": {},
     "output_type": "execute_result"
    }
   ],
   "source": [
    "sqldf"
   ]
  },
  {
   "cell_type": "code",
   "execution_count": null,
   "metadata": {},
   "outputs": [],
   "source": []
  }
 ],
 "metadata": {
  "kernelspec": {
   "display_name": "Python 3",
   "language": "python",
   "name": "python3"
  },
  "language_info": {
   "codemirror_mode": {
    "name": "ipython",
    "version": 3
   },
   "file_extension": ".py",
   "mimetype": "text/x-python",
   "name": "python",
   "nbconvert_exporter": "python",
   "pygments_lexer": "ipython3",
   "version": "3.7.3"
  }
 },
 "nbformat": 4,
 "nbformat_minor": 2
}
